{
 "cells": [
  {
   "cell_type": "code",
   "execution_count": 3,
   "metadata": {
    "tags": []
   },
   "outputs": [
    {
     "output_type": "stream",
     "name": "stdout",
     "text": "Collecting pytelegrambotapiWARNING: You are using pip version 19.2.3, however version 20.2.1 is available.\nYou should consider upgrading via the 'python -m pip install --upgrade pip' command.\n\n  Using cached https://files.pythonhosted.org/packages/9a/52/1f937ff9ac3823acfa40494788de2429833594009061d89723c33c9ddafe/pyTelegramBotAPI-3.7.2.tar.gz\nCollecting requests (from pytelegrambotapi)\n  Downloading https://files.pythonhosted.org/packages/45/1e/0c169c6a5381e241ba7404532c16a21d86ab872c9bed8bdcd4c423954103/requests-2.24.0-py2.py3-none-any.whl (61kB)\nRequirement already satisfied: six in c:\\users\\комп\\appdata\\roaming\\python\\python38\\site-packages (from pytelegrambotapi) (1.15.0)\nCollecting idna<3,>=2.5 (from requests->pytelegrambotapi)\n  Downloading https://files.pythonhosted.org/packages/a2/38/928ddce2273eaa564f6f50de919327bf3a00f091b5baba8dfa9460f3a8a8/idna-2.10-py2.py3-none-any.whl (58kB)\nCollecting certifi>=2017.4.17 (from requests->pytelegrambotapi)\n  Downloading https://files.pythonhosted.org/packages/5e/c4/6c4fe722df5343c33226f0b4e0bb042e4dc13483228b4718baf286f86d87/certifi-2020.6.20-py2.py3-none-any.whl (156kB)\nCollecting urllib3!=1.25.0,!=1.25.1,<1.26,>=1.21.1 (from requests->pytelegrambotapi)\n  Downloading https://files.pythonhosted.org/packages/9f/f0/a391d1463ebb1b233795cabfc0ef38d3db4442339de68f847026199e69d7/urllib3-1.25.10-py2.py3-none-any.whl (127kB)\nCollecting chardet<4,>=3.0.2 (from requests->pytelegrambotapi)\n  Downloading https://files.pythonhosted.org/packages/bc/a9/01ffebfb562e4274b6487b4bb1ddec7ca55ec7510b22e4c51f14098443b8/chardet-3.0.4-py2.py3-none-any.whl (133kB)\nInstalling collected packages: idna, certifi, urllib3, chardet, requests, pytelegrambotapi\n  Running setup.py install for pytelegrambotapi: started\n    Running setup.py install for pytelegrambotapi: finished with status 'done'\nSuccessfully installed certifi-2020.6.20 chardet-3.0.4 idna-2.10 pytelegrambotapi-3.7.2 requests-2.24.0 urllib3-1.25.10\n"
    }
   ],
   "source": [
    "!pip install pytelegrambotapi"
   ]
  },
  {
   "cell_type": "code",
   "execution_count": null,
   "metadata": {},
   "outputs": [],
   "source": [
    "!pip install requests"
   ]
  },
  {
   "cell_type": "code",
   "execution_count": 1,
   "metadata": {
    "tags": []
   },
   "outputs": [
    {
     "output_type": "stream",
     "name": "stderr",
     "text": "2020-08-19 20:15:59,140 (util.py:68 WorkerThread2) ERROR - TeleBot: \"ApiException occurred, args=('A request to the Telegram API was unsuccessful. The server returned HTTP 400 Bad Request. Response body:\\n[b\\'{\"ok\":false,\"error_code\":400,\"description\":\"Bad Request: BUTTON_DATA_INVALID\"}\\']',)\nTraceback (most recent call last):\n  File \"C:\\Users\\КОМП\\AppData\\Local\\Programs\\Python\\Python38-32\\lib\\site-packages\\telebot\\util.py\", line 62, in run\n    task(*args, **kwargs)\n  File \"<ipython-input-1-2fbbbf59d729>\", line 59, in take\n    price(elem, message)\n  File \"<ipython-input-1-2fbbbf59d729>\", line 29, in price\n    bot.send_message(message.chat.id, text ,  reply_markup=keyboard, parse_mode='Markdown')\n  File \"C:\\Users\\КОМП\\AppData\\Local\\Programs\\Python\\Python38-32\\lib\\site-packages\\telebot\\__init__.py\", line 640, in send_message\n    apihelper.send_message(self.token, chat_id, text, disable_web_page_preview, reply_to_message_id,\n  File \"C:\\Users\\КОМП\\AppData\\Local\\Programs\\Python\\Python38-32\\lib\\site-packages\\telebot\\apihelper.py\", line 166, in send_message\n    return _make_request(token, method_url, params=payload, method='post')\n  File \"C:\\Users\\КОМП\\AppData\\Local\\Programs\\Python\\Python38-32\\lib\\site-packages\\telebot\\apihelper.py\", line 69, in _make_request\n    return _check_result(method_name, result)['result']\n  File \"C:\\Users\\КОМП\\AppData\\Local\\Programs\\Python\\Python38-32\\lib\\site-packages\\telebot\\apihelper.py\", line 88, in _check_result\n    raise ApiException(msg, method_name, result)\ntelebot.apihelper.ApiException: A request to the Telegram API was unsuccessful. The server returned HTTP 400 Bad Request. Response body:\n[b'{\"ok\":false,\"error_code\":400,\"description\":\"Bad Request: BUTTON_DATA_INVALID\"}']\n\"\n2020-08-19 20:15:59,142 (__init__.py:455 MainThread) ERROR - TeleBot: \"A request to the Telegram API was unsuccessful. The server returned HTTP 400 Bad Request. Response body:\n[b'{\"ok\":false,\"error_code\":400,\"description\":\"Bad Request: BUTTON_DATA_INVALID\"}']\"\nКупить до-пт, 9 окт 2020,Закрытие реестра-пн, 12 окт 2020.\n"
    }
   ],
   "source": [
    "from token_ import TOKEN\n",
    "import telebot\n",
    "from telebot import types\n",
    "import re\n",
    "from typing import get_type_hints\n",
    "from selenium import webdriver\n",
    "from selenium.webdriver.common.keys import Keys\n",
    "from time import sleep\n",
    "bot = telebot.TeleBot(TOKEN)\n",
    "\n",
    "def price(elem_, message):\n",
    "    url = f'https://investmint.ru/{elem_}/'\n",
    "    driver = webdriver.Firefox()\n",
    "    driver.get(url)\n",
    "    sleep(1)\n",
    "    elems = driver.find_elements_by_class_name(\"num150\")\n",
    "    if elems:\n",
    "        price = elems[0].text\n",
    "        elems = driver.find_elements_by_class_name(\"num200\")\n",
    "        if elems:\n",
    "            divid, profit = elems[0].text, elems[1].text\n",
    "            elems = driver.find_elements_by_class_name(\"eventtime\")\n",
    "            buy, sell, close, pa_date = elems[0].text, elems[1].text, elems[2].text, elems[3].text\n",
    "            dop = f'Купить до-{sell},Закрытие реестра-{close}.'\n",
    "            print(dop)\n",
    "            text = f'Цена акции - {price}, Дидвиденд - {divid}, Доходность - {profit}, Купить до - {buy}, Дата выплат - {pa_date}   Компания - {elem_}'\n",
    "            keyboard = types.InlineKeyboardMarkup()\n",
    "            keyboard.add(*[types.InlineKeyboardButton(text=name, callback_data=dop) for name in ['Подробнее']])\n",
    "            bot.send_message(message.chat.id, text ,  reply_markup=keyboard, parse_mode='Markdown')\n",
    "        else:\n",
    "            bot.send_message(message.chat.id, f'Отсутсвуют данные об акциях компании. Текущая цена - {price}')\n",
    "    else:\n",
    "        bot.send_message(message.chat.id, f\"Похоже компнии '{elem_}'  не существует\")\n",
    "    driver.close()\n",
    "\n",
    "\n",
    "@bot.message_handler(commands=['start'])\n",
    "def start(message):\n",
    "    first_name = message.from_user.first_name\n",
    "    last_name = message.from_user.last_name\n",
    "    if last_name and first_name:\n",
    "        bot.send_message(message.chat.id, f\"Привет, {first_name} {last_name}.\")\n",
    "    elif first_name:\n",
    "        bot.send_message(message.chat.id, f\"Привет, {first_name}.\")\n",
    "    elif last_name:\n",
    "        bot.send_message(message.chat.id, f\"Привет, {last_name}.\")\n",
    "    else:\n",
    "        bot.send_message(message.chat.id, \"Привет, дебил без имени.\")\n",
    "    id_ = message.from_user.id\n",
    "    bot.send_message(message.chat.id, f'Твой телеграмм id: {id_}')\n",
    "    molba(message)\n",
    "def take(message):\n",
    "    req = message.text\n",
    "    bot.send_message(message.chat.id, req)\n",
    "    tick = req.split('|')\n",
    "    for elem in tick:\n",
    "        if re.fullmatch(r'[A-Za-z]{1,20}', elem):\n",
    "            bot.send_message(message.chat.id, 'Андрейдеб') #вызов фунции для обработки запроса + проверка на существование компании#\n",
    "            price(elem, message)\n",
    "        else:     \n",
    "            bot.send_message(message.chat.id, f'Введите верное название, а не {elem}')\n",
    "            molba(message)\n",
    "            break\n",
    "def molba(message):\n",
    "    sent = bot.send_message(message.chat.id, 'Умоляю введите компании, акции которых вы хотели бы просмотреть')\n",
    "    bot.register_next_step_handler(sent, take)\n",
    "\n",
    "\n",
    "    \n",
    "\n",
    "@bot.message_handler(commands=['pass'])\n",
    "def inline(message):\n",
    "    keyboard = types.InlineKeyboardMarkup()\n",
    "    keyboard.add(*[types.InlineKeyboardButton(text='1', callback_data='2') for name in ['Подробнее']])\n",
    "    bot.send_message(message.chat.id, 'да', reply_markup=keyboard, parse_mode='Markdown')\n",
    "\n",
    "\n",
    "@bot.callback_query_handler(func=lambda c: True)\n",
    "def inline(c):\n",
    "    print(str(c))\n",
    "    if '.' in c.data:\n",
    "        bot.edit_message_text(chat_id=c.message.chat.id, message_id=c.message.message_id, text=c.message.text + c.data, parse_mode='Markdown')\n",
    "\n",
    "\n",
    "\n",
    "bot.polling(none_stop=True, interval=0)"
   ]
  },
  {
   "cell_type": "code",
   "execution_count": 2,
   "metadata": {
    "tags": []
   },
   "outputs": [
    {
     "output_type": "stream",
     "name": "stdout",
     "text": "range(0, 10) [0, 1, 4, 9, 16, 25, 36, 49, 64, 81]\n"
    }
   ],
   "source": [
    "a = range(10)\n",
    "b = [x**2 for x in a]\n",
    "print(a, b)"
   ]
  },
  {
   "cell_type": "code",
   "execution_count": 16,
   "metadata": {
    "tags": []
   },
   "outputs": [],
   "source": [
    "import requests\n",
    "from bs4 import BeautifulSoup\n",
    "dpp = 'https://investmint.ru/tatn/'\n",
    "response = requests.get(dpp)\n",
    "soup = BeautifulSoup(response.text, 'html.parser')\n",
    "for tag in soup.find_all(\"div\", 'num150'):\n",
    "        print(\"{0}: {1}\".format(tag.name, tag.text))"
   ]
  },
  {
   "cell_type": "code",
   "execution_count": 4,
   "metadata": {
    "tags": []
   },
   "outputs": [
    {
     "output_type": "stream",
     "name": "stdout",
     "text": "191,34 ₽\n"
    }
   ],
   "source": [
    "from typing import get_type_hints\n",
    "from selenium import webdriver\n",
    "from selenium.webdriver.common.keys import Keys\n",
    "from time import sleep\n",
    "\n",
    "url = f'https://investmint.ru/{elem_}/'\n",
    "driver = webdriver.Firefox()\n",
    "driver.get(url)\n",
    "sleep(1)\n",
    "elems = driver.find_elements_by_class_name(\"num150\")\n",
    "\n",
    "print(elems[0].text)\n",
    "price = elems[0].text\n",
    "elems = driver.find_elements_by_class_name(\"num200\")\n",
    "if elems:\n",
    "    divid, profit = elems[0].text, elems[1].text\n",
    "    elems = driver.find_elements_by_class_name(\"eventtime\")\n",
    "    buy, pa_date = elems[0].text, elems[3].text,\n",
    "    print(price, divid, profit, buy, sell, close, cd)\n",
    "else:\n",
    "    bot.send_message(message.chat_id, f'Отсутсвуют данные об акциях компании. Текущая цена - {price}')\n",
    "\n",
    "driver.close()\n"
   ]
  },
  {
   "cell_type": "code",
   "execution_count": null,
   "metadata": {},
   "outputs": [],
   "source": []
  },
  {
   "cell_type": "code",
   "execution_count": null,
   "metadata": {},
   "outputs": [],
   "source": []
  }
 ],
 "metadata": {
  "kernelspec": {
   "display_name": "Python 3.8.1 32-bit",
   "language": "python",
   "name": "python_defaultSpec_1597857170343"
  },
  "language_info": {
   "codemirror_mode": {
    "name": "ipython",
    "version": 3
   },
   "file_extension": ".py",
   "mimetype": "text/x-python",
   "name": "python",
   "nbconvert_exporter": "python",
   "pygments_lexer": "ipython3",
   "version": "3.8.1-final"
  }
 },
 "nbformat": 4,
 "nbformat_minor": 4
}